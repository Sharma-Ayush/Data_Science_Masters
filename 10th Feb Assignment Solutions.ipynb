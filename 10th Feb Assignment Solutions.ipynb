{
 "cells": [
  {
   "cell_type": "markdown",
   "metadata": {},
   "source": [
    "# Answer 1:"
   ]
  },
  {
   "cell_type": "markdown",
   "metadata": {},
   "source": [
    "open() function is used to open a file in python. There are different modes of opening a file that can be used in python. Following are the different modes:  \n",
    "- **r**:read only mode. A file is opened just for reading, this is also the default mode. Gives FileNotFoundError if file doen't exist.    \n",
    "- **w**:write only mode. A new file is opened for writing if it doesn't exist, else the already existing file is truncated and written from scratch.  \n",
    "- **x**:open new file for writing only in the case that file doesn't exist already, otherwise raise FileExistsError.  \n",
    "- **a**:open in write mode at the end of file. Create new file, if it doesn't exist.  \n",
    "- **b**:open file in binary mode. This can be used in conjunction with given above modes.  \n",
    "- **t**:open file in text mode. This can be also be used in conjucntion with given above modes and is the default mode of opening.  \n",
    "- **+**:used in conjunction with r or w to indicate that open a file in read and write mode. If used with r, then file should already exist, else gives FileNotFoundError. If used with w, it creates a new file if it doesn't exist already.    \n",
    "- **U**:Universal newline mode. This mode is depracted and newline keyword is rather used to control this feature. So, it doesn't exist as a mode anymore."
   ]
  },
  {
   "cell_type": "markdown",
   "metadata": {},
   "source": [
    "# Answer 2:"
   ]
  },
  {
   "cell_type": "markdown",
   "metadata": {},
   "source": [
    "Whenever a python script calls to open a file, the operating sytem loads the buffered or non-buffered version of file in RAM and returns the file header to access the file. If the file is opened and not closed properly then it might lead to following issues:  \n",
    "1. If there is some crash, then it might happen that whatever was to be written to the file and was in buffer was not flushed to the file due to improper termination and thus, that data is lost.  \n",
    "2. Crashing while file is open, can also lead to file corruption.  \n",
    "3. Crashing while file is open can lead to accumulation of non-terminated file headers, thus locking out the file for other applications.\n",
    "4. Leaking file handles can present a security risk because the permissions associated with files sometimes get mixed up.  \n",
    "\n",
    "close() function is used to achieve this closing of file explicitly, once the file opening has achieved its purpose. Python also does file cleanup and closing once the script execution is over but one cannot rely on this everytime as we don't know when what kind of crash might occur while file is open in script execution."
   ]
  },
  {
   "cell_type": "markdown",
   "metadata": {},
   "source": [
    "# Answer 3:"
   ]
  },
  {
   "cell_type": "code",
   "execution_count": 1,
   "metadata": {},
   "outputs": [
    {
     "name": "stdout",
     "output_type": "stream",
     "text": [
      "I want to become a Data Scientist\n"
     ]
    }
   ],
   "source": [
    "#writing the file\n",
    "f_write = open(\"test.txt\", \"w\")\n",
    "f_write.write(\"I want to become a Data Scientist\")\n",
    "f_write.close()\n",
    "\n",
    "#reading the file\n",
    "f_read = open(\"test.txt\", \"r\")\n",
    "print(f_read.read())\n",
    "f_read.close()"
   ]
  },
  {
   "cell_type": "markdown",
   "metadata": {},
   "source": [
    "# Answer 4:"
   ]
  },
  {
   "cell_type": "code",
   "execution_count": 8,
   "metadata": {},
   "outputs": [
    {
     "name": "stdout",
     "output_type": "stream",
     "text": [
      "I want to become a Data Scientist.\n",
      "I would like to get a job in one of the FAANG companies.\n",
      "I want to become a Data Scientist.\n",
      "I would like to get a job in one of the FAANG companies.\n",
      "['I want to become a Data Scientist.\\n', 'I would like to get a job in one of the FAANG companies.']\n"
     ]
    }
   ],
   "source": [
    "#writing the file\n",
    "f_write = open(\"test.txt\", \"w\")\n",
    "f_write.write(\"I want to become a Data Scientist.\\n\")\n",
    "f_write.write(\"I would like to get a job in one of the FAANG companies.\")\n",
    "f_write.close()\n",
    "\n",
    "#demonstration for read() - reads the whole data after the cursor and returns it as a string\n",
    "f_read = open(\"test.txt\", \"r\")\n",
    "print(f_read.read())\n",
    "f_read.close()\n",
    "\n",
    "#demonstration for readline() - reads one line at a time based on newline termination and returns it as a string\n",
    "f_read = open(\"test.txt\", \"r\")\n",
    "print(f_read.readline(), end=\"\")\n",
    "print(f_read.readline())\n",
    "f_read.close()\n",
    "\n",
    "#demonstration for readlines() - returns a list of all the lines as string type elements of the list\n",
    "f_read = open(\"test.txt\", \"r\")\n",
    "print(f_read.readlines())\n",
    "f_read.close()\n"
   ]
  },
  {
   "cell_type": "markdown",
   "metadata": {},
   "source": [
    "# Answer 5:"
   ]
  },
  {
   "cell_type": "markdown",
   "metadata": {},
   "source": [
    "with statement is used with open to avoid explicit calling of close function for closing the file. After the with statement is written with open function, an indented body is maintained to show that in this region the file is open. Once this body is over and thus, we no more use the indentation, the file is automatically closed by python. Thus, reducing our work of explicitly closing and avoiding the risk of forgetting to close the file which might lead to many file related issues like file corruption, loss of data, security issues and file getting locked due to file handler not getting released."
   ]
  },
  {
   "cell_type": "markdown",
   "metadata": {},
   "source": [
    "# Answer 6:"
   ]
  },
  {
   "cell_type": "code",
   "execution_count": 17,
   "metadata": {},
   "outputs": [
    {
     "name": "stdout",
     "output_type": "stream",
     "text": [
      "I want to become a Data Scientist.\n",
      "I would like to get a job in one of the FAANG companies.\n",
      "I want to become a Data Scientist.\n",
      "I would like to get a job in one of the FAANG companies.\n"
     ]
    }
   ],
   "source": [
    "#writing the file using write() -  writes a given string data to file after the cursor position\n",
    "f_write = open(\"test.txt\", \"w\")\n",
    "f_write.write(\"I want to become a Data Scientist.\\nI would like to get a job in one of the FAANG companies.\")\n",
    "f_write.close()\n",
    "\n",
    "#reading the file using read()\n",
    "f_read = open(\"test.txt\", \"r\")\n",
    "print(f_read.read())\n",
    "f_read.close()\n",
    "\n",
    "#writing the file using writelines() -  writes a given iterable which contains string data as elements to file\n",
    "f_write = open(\"test.txt\", \"w\")\n",
    "f_write.writelines([\"I want to become a Data Scientist.\\n\", \"I would like to get a job in one of the FAANG companies.\"])\n",
    "f_write.close()\n",
    "\n",
    "#reading the file using read()\n",
    "f_read = open(\"test.txt\", \"r\")\n",
    "print(f_read.read())\n",
    "f_read.close()"
   ]
  }
 ],
 "metadata": {
  "kernelspec": {
   "display_name": "Python 3",
   "language": "python",
   "name": "python3"
  },
  "language_info": {
   "codemirror_mode": {
    "name": "ipython",
    "version": 3
   },
   "file_extension": ".py",
   "mimetype": "text/x-python",
   "name": "python",
   "nbconvert_exporter": "python",
   "pygments_lexer": "ipython3",
   "version": "3.7.6"
  }
 },
 "nbformat": 4,
 "nbformat_minor": 4
}
