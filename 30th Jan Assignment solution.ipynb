{
 "cells": [
  {
   "cell_type": "markdown",
   "metadata": {},
   "source": [
    "# Answer 1:"
   ]
  },
  {
   "cell_type": "code",
   "execution_count": 9,
   "metadata": {},
   "outputs": [
    {
     "name": "stdout",
     "output_type": "stream",
     "text": [
      "Enter the percentage: 85\n",
      "For given percentage = 85.0, your grade is B\n"
     ]
    }
   ],
   "source": [
    "while True:\n",
    "    try:\n",
    "        percentage = float(input(\"Enter the percentage: \"))\n",
    "        assert percentage >= 0 and percentage <= 100, \"Invalid percentage\"\n",
    "    except Exception as e:\n",
    "        print(f\"Error: {e}. Please enter again.\")\n",
    "    except:\n",
    "        print(f\"Error: Something went wrong. Please enter again.\")\n",
    "    else:\n",
    "        break\n",
    "        \n",
    "if percentage > 90: grade = \"A\"\n",
    "elif percentage <= 90 and percentage > 80: grade = \"B\"\n",
    "elif percentage <= 80 and percentage >= 60: grade = \"C\"\n",
    "else: grade = \"D\"\n",
    "    \n",
    "print(f\"For given percentage = {percentage}, your grade is {grade}\")"
   ]
  },
  {
   "cell_type": "markdown",
   "metadata": {},
   "source": [
    "# Answer 2:"
   ]
  },
  {
   "cell_type": "code",
   "execution_count": 12,
   "metadata": {},
   "outputs": [
    {
     "name": "stdout",
     "output_type": "stream",
     "text": [
      "Enter the cost price of the bike: 30000\n",
      "For given cost price of bike = 30000.0, your road tax is equal to 1500.0\n"
     ]
    }
   ],
   "source": [
    "while True:\n",
    "    try:\n",
    "        cost_price = float(input(\"Enter the cost price of the bike: \"))\n",
    "        assert cost_price > 0, \"Invalid cost price\"\n",
    "    except Exception as e:\n",
    "        print(f\"Error: {e}. Please enter again.\")\n",
    "    except:\n",
    "        print(f\"Error: Something went wrong. Please enter again.\")\n",
    "    else:\n",
    "        break\n",
    "        \n",
    "if cost_price > 100000: tax_percentage = 15\n",
    "elif cost_price <= 100000 and cost_price > 50000: tax_percentage = 10\n",
    "else: tax_percentage = 5\n",
    "    \n",
    "print(f\"For given cost price of bike = {cost_price}, your road tax is equal to {cost_price * tax_percentage / 100}\")"
   ]
  },
  {
   "cell_type": "markdown",
   "metadata": {},
   "source": [
    "# Answer 3:"
   ]
  },
  {
   "cell_type": "code",
   "execution_count": 16,
   "metadata": {},
   "outputs": [
    {
     "name": "stdout",
     "output_type": "stream",
     "text": [
      "Enter the city name: dElhi\n",
      "For given city = Delhi, your monument is Red Fort\n"
     ]
    }
   ],
   "source": [
    "while True:\n",
    "    try:\n",
    "        city = input(\"Enter the city name: \")\n",
    "        assert city.casefold() in [\"delhi\", \"agra\", \"jaipur\"], \"Invalid city name\" \n",
    "    except Exception as e:\n",
    "        print(f\"Error: {e}. Please enter again.\")\n",
    "    except:\n",
    "        print(f\"Error: Something went wrong. Please enter again.\")\n",
    "    else:\n",
    "        break\n",
    "        \n",
    "if city.casefold() == \"delhi\": monument = \"Red Fort\"\n",
    "elif city.casefold() == \"agra\": monument = \"Taj Mahal\"\n",
    "else: monument = \"Jal Mahal\"\n",
    "    \n",
    "print(f\"For given city = {city.casefold().capitalize()}, your monument is {monument}\")"
   ]
  },
  {
   "cell_type": "markdown",
   "metadata": {},
   "source": [
    "# Answer 4:"
   ]
  },
  {
   "cell_type": "code",
   "execution_count": 21,
   "metadata": {},
   "outputs": [
    {
     "name": "stdout",
     "output_type": "stream",
     "text": [
      "Enter the number: 55.5\n",
      "The given number 55.5 can be divided 2 times before becoming less than or equal to 10.\n"
     ]
    }
   ],
   "source": [
    "while True:\n",
    "    try:\n",
    "        num = float(input(\"Enter the number: \"))\n",
    "        if int(num) == num: num = int(num)\n",
    "    except Exception as e:\n",
    "        print(f\"Error: {e}. Please enter again.\")\n",
    "    except:\n",
    "        print(f\"Error: Something went wrong. Please enter again.\")\n",
    "    else:\n",
    "        break\n",
    "        \n",
    "count = 0\n",
    "new_num = num\n",
    "while new_num > 10:\n",
    "    new_num = new_num / 3\n",
    "    count+=1\n",
    "\n",
    "if count == 0:print(f\"The given number {num} is already less than or equal to 10.\")\n",
    "else:print(f\"The given number {num} can be divided {count} times before becoming less than or equal to 10.\")"
   ]
  },
  {
   "cell_type": "markdown",
   "metadata": {},
   "source": [
    "# Answer 5:"
   ]
  },
  {
   "cell_type": "markdown",
   "metadata": {},
   "source": [
    "while loop in python is used in cases where we want to impose some condition of termination on our loop. It is the syntactical nature of while loop that forces it to behave in this way and thus, necessarily requires a condition of termination. For example, lets say for a given natural number we want to find out what power of 2 is just greater than this given number, then we divide the given number by 2 until it becomes smaller than or equal to 1, so this becomes the condition of termination for our example. The code for the example is shown below:  \n",
    "**num = 55  \n",
    "count = 0  \n",
    "while num > 1:  \n",
    "&nbsp;&nbsp;&nbsp;&nbsp;num = num / 2  \n",
    "&nbsp;&nbsp;&nbsp;&nbsp;count+=1  \n",
    "print(f\"power of 2 greater than  or equal to {num} is {2\\*\\*count})**"
   ]
  },
  {
   "cell_type": "markdown",
   "metadata": {},
   "source": [
    "# Answer 6:"
   ]
  },
  {
   "cell_type": "code",
   "execution_count": 32,
   "metadata": {},
   "outputs": [
    {
     "name": "stdout",
     "output_type": "stream",
     "text": [
      "Enter the number of lines: 5\n",
      "*\n",
      "**\n",
      "***\n",
      "****\n",
      "*****\n"
     ]
    }
   ],
   "source": [
    "# Pattern 1:\n",
    "while True:\n",
    "    try:\n",
    "        num = int(input(\"Enter the number of lines: \"))\n",
    "        assert num > 0, \"Invalid input\"\n",
    "    except Exception as e:\n",
    "        print(f\"Error: {e}. Please enter again.\")\n",
    "    except:\n",
    "        print(f\"Error: Something went wrong. Please enter again.\")\n",
    "    else:\n",
    "        break\n",
    "        \n",
    "i = 0\n",
    "while i < num:\n",
    "    j = 0\n",
    "    while j < i+1:\n",
    "        print(\"*\", end=\"\")\n",
    "        j+=1\n",
    "    i+=1\n",
    "    print(\"\")"
   ]
  },
  {
   "cell_type": "code",
   "execution_count": 33,
   "metadata": {},
   "outputs": [
    {
     "name": "stdout",
     "output_type": "stream",
     "text": [
      "Enter the number of lines: 5\n",
      "    *\n",
      "   ***\n",
      "  *****\n",
      " *******\n",
      "*********\n"
     ]
    }
   ],
   "source": [
    "# Pattern 2:\n",
    "while True:\n",
    "    try:\n",
    "        num = int(input(\"Enter the number of lines: \"))\n",
    "        assert num > 0, \"Invalid input\"\n",
    "    except Exception as e:\n",
    "        print(f\"Error: {e}. Please enter again.\")\n",
    "    except:\n",
    "        print(f\"Error: Something went wrong. Please enter again.\")\n",
    "    else:\n",
    "        break\n",
    "i = 0\n",
    "while i < num:\n",
    "    j = 0\n",
    "    while j < num-i-1:\n",
    "        print(\" \", end=\"\")\n",
    "        j+=1\n",
    "    k=0\n",
    "    while k < 2*i+1:\n",
    "        print(\"*\", end=\"\")\n",
    "        k+=1\n",
    "    i+=1\n",
    "    print(\"\")\n",
    "    "
   ]
  },
  {
   "cell_type": "code",
   "execution_count": 35,
   "metadata": {},
   "outputs": [
    {
     "name": "stdout",
     "output_type": "stream",
     "text": [
      "Enter the number of lines: 5\n",
      "1 2 3 4 5 \n",
      "6 7 8 9 10 \n",
      "11 12 13 14 15 \n",
      "16 17 18 19 20 \n",
      "21 22 23 24 25 \n"
     ]
    }
   ],
   "source": [
    "# Pattern 3:\n",
    "while True:\n",
    "    try:\n",
    "        num = int(input(\"Enter the number of rows and columns: \"))\n",
    "        assert num > 0, \"Invalid input\"\n",
    "    except Exception as e:\n",
    "        print(f\"Error: {e}. Please enter again.\")\n",
    "    except:\n",
    "        print(f\"Error: Something went wrong. Please enter again.\")\n",
    "    else:\n",
    "        break\n",
    "row = 0 \n",
    "count = 1\n",
    "while row < num:\n",
    "    column = 0\n",
    "    while column < num:\n",
    "        column+=1\n",
    "        print(f\"{row*num + column} \", end = \"\")\n",
    "    row+=1\n",
    "    print(\"\")"
   ]
  },
  {
   "cell_type": "markdown",
   "metadata": {},
   "source": [
    "# Answer 7:"
   ]
  },
  {
   "cell_type": "code",
   "execution_count": 26,
   "metadata": {},
   "outputs": [
    {
     "name": "stdout",
     "output_type": "stream",
     "text": [
      "10\n",
      "9\n",
      "8\n",
      "7\n",
      "6\n",
      "5\n",
      "4\n",
      "3\n",
      "2\n",
      "1\n"
     ]
    }
   ],
   "source": [
    "num = 10\n",
    "while num >= 1:\n",
    "    print(num)\n",
    "    num-=1"
   ]
  },
  {
   "cell_type": "markdown",
   "metadata": {},
   "source": [
    "# Answer 8:"
   ]
  },
  {
   "cell_type": "code",
   "execution_count": 26,
   "metadata": {},
   "outputs": [
    {
     "name": "stdout",
     "output_type": "stream",
     "text": [
      "10\n",
      "9\n",
      "8\n",
      "7\n",
      "6\n",
      "5\n",
      "4\n",
      "3\n",
      "2\n",
      "1\n"
     ]
    }
   ],
   "source": [
    "num = 10\n",
    "while num >= 1:\n",
    "    print(num)\n",
    "    num-=1"
   ]
  }
 ],
 "metadata": {
  "kernelspec": {
   "display_name": "Python 3",
   "language": "python",
   "name": "python3"
  },
  "language_info": {
   "codemirror_mode": {
    "name": "ipython",
    "version": 3
   },
   "file_extension": ".py",
   "mimetype": "text/x-python",
   "name": "python",
   "nbconvert_exporter": "python",
   "pygments_lexer": "ipython3",
   "version": "3.7.6"
  }
 },
 "nbformat": 4,
 "nbformat_minor": 4
}
