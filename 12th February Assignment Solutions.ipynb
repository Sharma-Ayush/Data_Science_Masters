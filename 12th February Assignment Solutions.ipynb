{
 "cells": [
  {
   "cell_type": "markdown",
   "metadata": {},
   "source": [
    "# Answer 1:"
   ]
  },
  {
   "cell_type": "markdown",
   "metadata": {},
   "source": [
    "Exceptions are errors that occur during runtime. Python has collection of in-built exceptions and allows creation of custom exceptions as well, whenever some error is observed based on these exceptions during runtime, python throws an error describing the type of error and info. related to that exception.   \n",
    "Syntax errors are grammatical errors that occur due to not following the coding languages writing rules while exceptions being runtime errors occur due to invlaid inputs, files, mathematical operations etc. at runtime."
   ]
  },
  {
   "cell_type": "markdown",
   "metadata": {},
   "source": [
    "# Answer 2:"
   ]
  },
  {
   "cell_type": "markdown",
   "metadata": {},
   "source": [
    "When an exception is not handled it leads to the stop of program execution at the point where error was observed. Python throws the error and no further interpretation is done on the code. For example:"
   ]
  },
  {
   "cell_type": "code",
   "execution_count": 1,
   "metadata": {},
   "outputs": [
    {
     "name": "stdout",
     "output_type": "stream",
     "text": [
      "a is equal to 5\n",
      "b is equal to 0\n"
     ]
    },
    {
     "ename": "ZeroDivisionError",
     "evalue": "division by zero",
     "output_type": "error",
     "traceback": [
      "\u001b[1;31m---------------------------------------------------------------------------\u001b[0m",
      "\u001b[1;31mZeroDivisionError\u001b[0m                         Traceback (most recent call last)",
      "\u001b[1;32m<ipython-input-1-9b645a8b8586>\u001b[0m in \u001b[0;36m<module>\u001b[1;34m\u001b[0m\n\u001b[0;32m      7\u001b[0m \u001b[0mprint\u001b[0m\u001b[1;33m(\u001b[0m\u001b[1;34mf\"a is equal to {a}\"\u001b[0m\u001b[1;33m)\u001b[0m\u001b[1;33m\u001b[0m\u001b[1;33m\u001b[0m\u001b[0m\n\u001b[0;32m      8\u001b[0m \u001b[0mprint\u001b[0m\u001b[1;33m(\u001b[0m\u001b[1;34mf\"b is equal to {b}\"\u001b[0m\u001b[1;33m)\u001b[0m\u001b[1;33m\u001b[0m\u001b[1;33m\u001b[0m\u001b[0m\n\u001b[1;32m----> 9\u001b[1;33m \u001b[0mprint\u001b[0m\u001b[1;33m(\u001b[0m\u001b[1;34mf\"divison of {a} and {b} is {divide(a, b)}\"\u001b[0m\u001b[1;33m)\u001b[0m\u001b[1;33m\u001b[0m\u001b[1;33m\u001b[0m\u001b[0m\n\u001b[0m\u001b[0;32m     10\u001b[0m \u001b[0mprint\u001b[0m\u001b[1;33m(\u001b[0m\u001b[1;34m\"Completed.\"\u001b[0m\u001b[1;33m)\u001b[0m\u001b[1;33m\u001b[0m\u001b[1;33m\u001b[0m\u001b[0m\n",
      "\u001b[1;32m<ipython-input-1-9b645a8b8586>\u001b[0m in \u001b[0;36mdivide\u001b[1;34m(a, b)\u001b[0m\n\u001b[0;32m      1\u001b[0m \u001b[1;32mdef\u001b[0m \u001b[0mdivide\u001b[0m\u001b[1;33m(\u001b[0m\u001b[0ma\u001b[0m\u001b[1;33m,\u001b[0m \u001b[0mb\u001b[0m\u001b[1;33m)\u001b[0m\u001b[1;33m:\u001b[0m\u001b[1;33m\u001b[0m\u001b[1;33m\u001b[0m\u001b[0m\n\u001b[1;32m----> 2\u001b[1;33m     \u001b[1;32mreturn\u001b[0m \u001b[0ma\u001b[0m\u001b[1;33m/\u001b[0m\u001b[0mb\u001b[0m\u001b[1;33m\u001b[0m\u001b[1;33m\u001b[0m\u001b[0m\n\u001b[0m\u001b[0;32m      3\u001b[0m \u001b[1;33m\u001b[0m\u001b[0m\n\u001b[0;32m      4\u001b[0m \u001b[0ma\u001b[0m \u001b[1;33m=\u001b[0m \u001b[1;36m5\u001b[0m\u001b[1;33m\u001b[0m\u001b[1;33m\u001b[0m\u001b[0m\n\u001b[0;32m      5\u001b[0m \u001b[0mb\u001b[0m \u001b[1;33m=\u001b[0m \u001b[1;36m0\u001b[0m\u001b[1;33m\u001b[0m\u001b[1;33m\u001b[0m\u001b[0m\n",
      "\u001b[1;31mZeroDivisionError\u001b[0m: division by zero"
     ]
    }
   ],
   "source": [
    "def divide(a, b):\n",
    "    return a/b\n",
    "\n",
    "a = 5\n",
    "b = 0\n",
    "\n",
    "print(f\"a is equal to {a}\")\n",
    "print(f\"b is equal to {b}\")\n",
    "print(f\"divison of {a} and {b} is {divide(a, b)}\")\n",
    "print(\"Completed.\")"
   ]
  },
  {
   "cell_type": "markdown",
   "metadata": {},
   "source": [
    "Here, we can see that program is not observing any syntax errors and starts execution of the program line by line until it founds some runtime error. Python throws the exception and after that any further lines of code are not executed."
   ]
  },
  {
   "cell_type": "markdown",
   "metadata": {},
   "source": [
    "# Answer 3:"
   ]
  },
  {
   "cell_type": "markdown",
   "metadata": {},
   "source": [
    "try and except statments are used to catch and handle exceptions in python. For example:"
   ]
  },
  {
   "cell_type": "code",
   "execution_count": 2,
   "metadata": {},
   "outputs": [
    {
     "name": "stdout",
     "output_type": "stream",
     "text": [
      "Enter the denominator: a\n",
      "ERROR: Invalid input. Please enter non-zero numbers only.\n",
      "Enter the denominator: 0\n",
      "ERROR: Invalid input. Please enter non-zero numbers only.\n",
      "Enter the denominator: -25\n",
      "5 divided by -25 is -0.2\n",
      "Divison completed successfully.\n"
     ]
    }
   ],
   "source": [
    "while True:\n",
    "    try:\n",
    "        a = 5\n",
    "        b = int(input(\"Enter the denominator: \"))\n",
    "        print(f\"{a} divided by {b} is {a/b}\")\n",
    "    except (ValueError, ZeroDivisionError                         ):\n",
    "        print(\"ERROR: Invalid input. Please enter non-zero numbers only.\")\n",
    "    else:\n",
    "        print(\"Divison completed successfully.\")\n",
    "        break\n",
    "        "
   ]
  },
  {
   "cell_type": "markdown",
   "metadata": {},
   "source": [
    "Here, based on the inputs two types of error can occur:  \n",
    "- ValueError: Which can hapen when input other than any number is given.  \n",
    "- ZeroDivisionError: Which can happen when zero is given as an input, since python doesn't allow division with zero.\n",
    "\n",
    "Both of these exceptions are caught and handeled in the above example. This ensures that our program doesn't stop abruptly due to any exception, rather it continues to ping user until a valid input is given which ultimately leads to successful execution of the program."
   ]
  },
  {
   "cell_type": "markdown",
   "metadata": {},
   "source": [
    "# Answer 4:"
   ]
  },
  {
   "cell_type": "markdown",
   "metadata": {},
   "source": [
    "### try and else:"
   ]
  },
  {
   "cell_type": "markdown",
   "metadata": {},
   "source": [
    "try block is the piece of code that you want to run based on your programming logic and architecture. If and only if the code in try block is executed successfully without any error then contents in else block are executed. For example:  "
   ]
  },
  {
   "cell_type": "code",
   "execution_count": 3,
   "metadata": {},
   "outputs": [
    {
     "name": "stdout",
     "output_type": "stream",
     "text": [
      "I am in try block.\n",
      "ERROR: Something went wrong.\n",
      "\n",
      "I am in try block.\n",
      "5.0\n",
      "I am in else block.\n"
     ]
    }
   ],
   "source": [
    "# Example with error in try block\n",
    "try:\n",
    "    print(\"I am in try block.\")\n",
    "    print(5/0) # ZeroDivisionError occurs here\n",
    "except:\n",
    "    print(\"ERROR: Something went wrong.\")\n",
    "else:\n",
    "    print(\"I am in else block.\")\n",
    "\n",
    "print(\"\")\n",
    "# Example with no error in try block\n",
    "try:\n",
    "    print(\"I am in try block.\")\n",
    "    print(5/1)\n",
    "except:\n",
    "    print(\"ERROR: Something went wrong.\")\n",
    "else:\n",
    "    print(\"I am in else block.\")"
   ]
  },
  {
   "cell_type": "markdown",
   "metadata": {},
   "source": [
    "### finally:"
   ]
  },
  {
   "cell_type": "markdown",
   "metadata": {},
   "source": [
    "finally is a type of statement in try-except statements which is supposed to be present at the end and containes code which will always be executed no matter what. Whether try is successful or not, it will be always executed. This is generally used to close connections, files etc. in case some exception occurs or even if execution was successful to avoid issues with open contents. Writing finally statement is not mandatory."
   ]
  },
  {
   "cell_type": "code",
   "execution_count": 4,
   "metadata": {},
   "outputs": [
    {
     "name": "stdout",
     "output_type": "stream",
     "text": [
      "I am in try block.\n",
      "ERROR: Something went wrong.\n",
      "I am in finally block\n",
      "\n",
      "I am in try block.\n",
      "5.0\n",
      "I am in else block.\n",
      "I am in finally block\n"
     ]
    }
   ],
   "source": [
    "# Example with error in try block\n",
    "try:\n",
    "    print(\"I am in try block.\")\n",
    "    print(5/0) # ZeroDivisionError occurs here\n",
    "except:\n",
    "    print(\"ERROR: Something went wrong.\")\n",
    "else:\n",
    "    print(\"I am in else block.\")\n",
    "finally:\n",
    "    print(\"I am in finally block\")\n",
    "\n",
    "print(\"\")\n",
    "# Example with no error in try block\n",
    "try:\n",
    "    print(\"I am in try block.\")\n",
    "    print(5/1)\n",
    "except:\n",
    "    print(\"ERROR: Something went wrong.\")\n",
    "else:\n",
    "    print(\"I am in else block.\")\n",
    "finally:\n",
    "    print(\"I am in finally block\")"
   ]
  },
  {
   "cell_type": "markdown",
   "metadata": {},
   "source": [
    "### raise"
   ]
  },
  {
   "cell_type": "markdown",
   "metadata": {},
   "source": [
    "raise is used to customly raise exceptions as per user need. These mainly help to raise exceptions in case that the current logic of programming is not as per users need even though it might not give any error on runtime i.e. a logical error."
   ]
  },
  {
   "cell_type": "code",
   "execution_count": 5,
   "metadata": {},
   "outputs": [
    {
     "name": "stdout",
     "output_type": "stream",
     "text": [
      "Please enter age: a\n",
      "ERROR: Please enter positive integers only.\n",
      "Please enter age: -25\n",
      "ERROR: Age cannot be non-positive integer or decimal based number.\n",
      "Please enter age: \n",
      "ERROR: Please enter positive integers only.\n",
      "Please enter age: 25.5\n",
      "ERROR: Please enter positive integers only.\n",
      "Please enter age: 25\n"
     ]
    }
   ],
   "source": [
    "while True:\n",
    "    try:\n",
    "        age = int(input(\"Please enter age: \"))\n",
    "        if age <= 0 or int(age)!=age:\n",
    "            raise Exception(\"Age cannot be non-positive integer or decimal based number.\")\n",
    "    except ValueError:\n",
    "        print(\"ERROR: Please enter positive integers only.\")\n",
    "    except Exception as e:\n",
    "        print(f\"ERROR: {e}\")\n",
    "    else:\n",
    "        break"
   ]
  },
  {
   "cell_type": "markdown",
   "metadata": {},
   "source": [
    "# Answer 5:"
   ]
  },
  {
   "cell_type": "markdown",
   "metadata": {},
   "source": [
    "Custom exceptions are classes that inherit from BaseException class directly or indirectly. These are used to raise exceptions in the case that program doesn't follow users logic and needs to catch and handle this abnormality accordingly. For example:"
   ]
  },
  {
   "cell_type": "code",
   "execution_count": 8,
   "metadata": {},
   "outputs": [
    {
     "name": "stdout",
     "output_type": "stream",
     "text": [
      "Please enter age: a\n",
      "ERROR: Please enter positive integers only.\n",
      "Please enter age: 0\n",
      "ERROR: Age cannot be non-positive integer or decimal based number.\n",
      "Please enter age: -25\n",
      "ERROR: Age cannot be non-positive integer or decimal based number.\n",
      "Please enter age: 25.5\n",
      "ERROR: Please enter positive integers only.\n",
      "Please enter age: 25\n"
     ]
    }
   ],
   "source": [
    "class validate_age(BaseException):\n",
    "    def __init__(self, msg):\n",
    "        self.msg = msg\n",
    "    def __str__(self):\n",
    "        return self.msg\n",
    "    \n",
    "def validate_age_func(age):\n",
    "    if age <= 0 or int(age)!=age:\n",
    "        raise validate_age(\"Age cannot be non-positive integer or decimal based number.\")\n",
    "\n",
    "while True:\n",
    "    try:\n",
    "        age = int(input(\"Please enter age: \"))\n",
    "        validate_age_func(age)\n",
    "    except ValueError:\n",
    "        print(\"ERROR: Please enter positive integers only.\")\n",
    "    except validate_age as e:\n",
    "        print(f\"ERROR: {e}\")\n",
    "    else:\n",
    "        break"
   ]
  },
  {
   "cell_type": "markdown",
   "metadata": {},
   "source": [
    "Here, the user wants the age to be a positive integer only. If an input which is not a number is given then ValueError will be raised but if any negtive number, zero or floating point number with non-zero decimal values is given then it is against the logic of age as a number and thus, is handeled manually by raising cutom exception."
   ]
  },
  {
   "cell_type": "markdown",
   "metadata": {},
   "source": [
    "# Answer 6:"
   ]
  },
  {
   "cell_type": "code",
   "execution_count": 7,
   "metadata": {},
   "outputs": [
    {
     "name": "stdout",
     "output_type": "stream",
     "text": [
      "Please enter age: a\n",
      "ERROR: Please enter positive integers only.\n",
      "Please enter age: 0\n",
      "ERROR: 0 is not a valid age. Age cannot be non-positive integer or decimal based number.\n",
      "Please enter age: -25\n",
      "ERROR: -25 is not a valid age. Age cannot be non-positive integer or decimal based number.\n",
      "Please enter age: 25.5\n",
      "ERROR: Please enter positive integers only.\n",
      "Please enter age: 25\n"
     ]
    }
   ],
   "source": [
    "class validate_age(Exception):\n",
    "    def __init__(self, age):\n",
    "        self.age = age\n",
    "    def __str__(self):\n",
    "        return f\"{self.age} is not a valid age. Age cannot be non-positive integer or decimal based number.\"\n",
    "\n",
    "def validate_age_func(age):\n",
    "    if age <= 0 or int(age)!=age:\n",
    "        raise validate_age(age)\n",
    "\n",
    "while True:\n",
    "    try:\n",
    "        age = int(input(\"Please enter age: \"))\n",
    "        validate_age_func(age)\n",
    "    except ValueError:\n",
    "        print(\"ERROR: Please enter positive integers only.\")\n",
    "    except validate_age as e:\n",
    "        print(f\"ERROR: {e}\")\n",
    "    else:\n",
    "        break"
   ]
  }
 ],
 "metadata": {
  "kernelspec": {
   "display_name": "Python 3",
   "language": "python",
   "name": "python3"
  },
  "language_info": {
   "codemirror_mode": {
    "name": "ipython",
    "version": 3
   },
   "file_extension": ".py",
   "mimetype": "text/x-python",
   "name": "python",
   "nbconvert_exporter": "python",
   "pygments_lexer": "ipython3",
   "version": "3.7.6"
  }
 },
 "nbformat": 4,
 "nbformat_minor": 4
}
