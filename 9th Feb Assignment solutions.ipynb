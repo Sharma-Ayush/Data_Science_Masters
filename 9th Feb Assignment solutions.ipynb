{
 "cells": [
  {
   "cell_type": "markdown",
   "metadata": {},
   "source": [
    "# Answer 1:"
   ]
  },
  {
   "cell_type": "code",
   "execution_count": 1,
   "metadata": {},
   "outputs": [],
   "source": [
    "class vehicle:\n",
    "    def __init__(self, name_of_vehicle, max_speed, average_of_vehicle):\n",
    "        self.name_of_vehicle = name_of_vehicle\n",
    "        self.max_speed = max_speed\n",
    "        self.average_of_vehicle = average_of_vehicle"
   ]
  },
  {
   "cell_type": "markdown",
   "metadata": {},
   "source": [
    "# Answer 2:"
   ]
  },
  {
   "cell_type": "code",
   "execution_count": 2,
   "metadata": {},
   "outputs": [
    {
     "data": {
      "text/plain": [
       "('Audi_Q4', 5)"
      ]
     },
     "execution_count": 2,
     "metadata": {},
     "output_type": "execute_result"
    }
   ],
   "source": [
    "class car(vehicle):\n",
    "    def seating_capacity(self, capacity):\n",
    "        return self.name_of_vehicle, capacity\n",
    "    \n",
    "CAR = car(\"Audi_Q4\", 200, 15)\n",
    "CAR.seating_capacity(5)"
   ]
  },
  {
   "cell_type": "markdown",
   "metadata": {},
   "source": [
    "# Answer 3:"
   ]
  },
  {
   "cell_type": "markdown",
   "metadata": {},
   "source": [
    "Multiple inheritance is a type of inheritance where one class inherits from mulitple classes at once. For example,"
   ]
  },
  {
   "cell_type": "code",
   "execution_count": 3,
   "metadata": {},
   "outputs": [],
   "source": [
    "class A:\n",
    "    def test(self):\n",
    "        print(\"Hi, how are you?\")\n",
    "        \n",
    "class B:\n",
    "    def test1(self):\n",
    "        print(\"Bye Bye.\")\n",
    "        \n",
    "class C(B, A):\n",
    "    pass"
   ]
  },
  {
   "cell_type": "markdown",
   "metadata": {},
   "source": [
    "# Answer 4:"
   ]
  },
  {
   "cell_type": "markdown",
   "metadata": {},
   "source": [
    "Getter and setter are features through which we can access hidden data and set its value respectively. They help us in avoiding direct manipulation of the variables that we are concerned about and on top of that we can add validation cases also inside these features to avoid misuse of theses hidden variables. Python allows different design patterns to implement these features:  "
   ]
  },
  {
   "cell_type": "markdown",
   "metadata": {},
   "source": [
    "### 1. Via methods for each feature"
   ]
  },
  {
   "cell_type": "code",
   "execution_count": 1,
   "metadata": {},
   "outputs": [
    {
     "name": "stdout",
     "output_type": "stream",
     "text": [
      "10\n",
      "0\n"
     ]
    }
   ],
   "source": [
    "class A:\n",
    "    def __init__(self, a, b):\n",
    "        self.__a = a\n",
    "        self.b = b\n",
    "    #getter method\n",
    "    def get_a(self):\n",
    "        return self.__a\n",
    "    #setter method\n",
    "    def set_a(self, value):\n",
    "        self.__a = value\n",
    "        \n",
    "A_obj = A(10, 5)\n",
    "print(A_obj.get_a())\n",
    "A_obj.set_a(0)\n",
    "print(A_obj.get_a())\n"
   ]
  },
  {
   "cell_type": "markdown",
   "metadata": {},
   "source": [
    "But, there is nothing special about this implementation."
   ]
  },
  {
   "cell_type": "markdown",
   "metadata": {},
   "source": [
    "### 2. Via property decorator"
   ]
  },
  {
   "cell_type": "code",
   "execution_count": 3,
   "metadata": {},
   "outputs": [
    {
     "name": "stdout",
     "output_type": "stream",
     "text": [
      "10\n",
      "0\n"
     ]
    }
   ],
   "source": [
    "class A:\n",
    "    def __init__(self, a, b):\n",
    "        self.__a = a\n",
    "        self.b = b\n",
    "    @property\n",
    "    def a(self):\n",
    "        return self.__a\n",
    "    @a.setter\n",
    "    def a(self, value):\n",
    "        self.__a = value\n",
    "        \n",
    "A_obj = A(10, 5)\n",
    "print(A_obj.a)\n",
    "A_obj.a = 0\n",
    "print(A_obj.a)"
   ]
  },
  {
   "cell_type": "markdown",
   "metadata": {},
   "source": [
    "Property is a class which acts as a decorator here and to return a property type object(a) which can be used to get, set or delete the private variable."
   ]
  },
  {
   "cell_type": "markdown",
   "metadata": {},
   "source": [
    "# Answer 5:"
   ]
  },
  {
   "cell_type": "markdown",
   "metadata": {},
   "source": [
    "In inheritance, it is known that all the methods and attributes from parent class are passed on to the child class. But, what if the user wants to use a same name method as in parent class but have a different fuctionality when operating with child class object. In this case, we can make a same named method defintion within the child class. This way based on method resolution order(mro) python will be able to find a method definition within the child class and will stop searching further in the mro sequence and thus, the method is said to be overwritten. This type of writing code is called method overriding."
   ]
  },
  {
   "cell_type": "code",
   "execution_count": 8,
   "metadata": {},
   "outputs": [
    {
     "name": "stdout",
     "output_type": "stream",
     "text": [
      "Hi\n",
      "How are you?\n",
      "Bye\n"
     ]
    }
   ],
   "source": [
    "class A:\n",
    "    def test(self):\n",
    "        print(\"Hi\")\n",
    "    def test1(self):\n",
    "        print(\"Bye\")\n",
    "class B(A):\n",
    "    #overriden method\n",
    "    def test(self):\n",
    "        super().test()\n",
    "        print(\"How are you?\")\n",
    "        \n",
    "B_obj = B()\n",
    "\n",
    "B_obj.test()\n",
    "B_obj.test1()\n",
    "\n",
    "#For B_obj, test's defintion is being taken from class B defintion, since it was overridden\n",
    "#and\n",
    "#test1 defintion is being taken from A, since it was not overridden\"\"\""
   ]
  }
 ],
 "metadata": {
  "kernelspec": {
   "display_name": "Python 3",
   "language": "python",
   "name": "python3"
  },
  "language_info": {
   "codemirror_mode": {
    "name": "ipython",
    "version": 3
   },
   "file_extension": ".py",
   "mimetype": "text/x-python",
   "name": "python",
   "nbconvert_exporter": "python",
   "pygments_lexer": "ipython3",
   "version": "3.7.6"
  }
 },
 "nbformat": 4,
 "nbformat_minor": 4
}
