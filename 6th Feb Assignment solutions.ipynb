{
 "cells": [
  {
   "cell_type": "markdown",
   "metadata": {},
   "source": [
    "# Answer 1:"
   ]
  },
  {
   "cell_type": "code",
   "execution_count": 15,
   "metadata": {},
   "outputs": [
    {
     "name": "stdout",
     "output_type": "stream",
     "text": [
      "Flat list  = [1, 2, 3, 4, 44, 55, 66, True, False, 34, 56, 78, 89, 34, 1, 2, 3, 1, 4, 34, 55, 67, 78, 89, 45, 22, 61, 34, 56]\n",
      "The product of numeric values in list1 is 0\n"
     ]
    }
   ],
   "source": [
    "#Assuming bool is to be treated as numeric value\n",
    "from functools import reduce\n",
    "list1 = [1,2,3,4, [44,55,66, True], False, (34,56,78,89,34), {1,2,3,3,2,1}, {1:34, \"key2\": [55, 67, 78, 89], 4: (45,\n",
    "22, 61, 34)}, [56, 'data science'], 'Machine Learning']\n",
    "\n",
    "#recursive type solution - can work for any number of layers of nesting\n",
    "def extend_lst(lst, arg):\n",
    "    if type(arg) in (int, float, bool):\n",
    "        lst.append(arg)\n",
    "    elif type(arg) in (list, tuple, set):\n",
    "        for val in arg:\n",
    "            extend_lst(lst, val)\n",
    "    elif type(arg) == dict:\n",
    "        for key in arg.keys():\n",
    "            extend_lst(lst, key)\n",
    "        for value in arg.values():\n",
    "            extend_lst(lst, value)\n",
    "\n",
    "flat_lst = []\n",
    "extend_lst(flat_lst, list1)\n",
    "print(f\"Flat list  = {flat_lst}\")\n",
    "print(f\"The product of numeric values in list1 is {reduce(lambda x, y: x*y, flat_lst)}\")"
   ]
  },
  {
   "cell_type": "markdown",
   "metadata": {},
   "source": [
    "or"
   ]
  },
  {
   "cell_type": "code",
   "execution_count": 19,
   "metadata": {},
   "outputs": [
    {
     "name": "stdout",
     "output_type": "stream",
     "text": [
      "Flat list  = [1, 2, 3, 4, 44, 55, 66, 34, 56, 78, 89, 34, 1, 2, 3, 1, 4, 34, 55, 67, 78, 89, 45, 22, 61, 34, 56]\n",
      "The product of numeric values in list1 is 4134711838987085478833841242112000\n"
     ]
    }
   ],
   "source": [
    "#Assuming bool is not to be treated as numeric value\n",
    "from functools import reduce\n",
    "list1 = [1,2,3,4, [44,55,66, True], False, (34,56,78,89,34), {1,2,3,3,2,1}, {1:34, \"key2\": [55, 67, 78, 89], 4: (45,\n",
    "22, 61, 34)}, [56, 'data science'], 'Machine Learning']\n",
    "\n",
    "#recursive type solution - can work for any number of layers of nesting\n",
    "def extend_lst(lst, arg):\n",
    "    if type(arg) in (int, float):\n",
    "        lst.append(arg)\n",
    "    elif type(arg) in (list, tuple, set):\n",
    "        for val in arg:\n",
    "            extend_lst(lst, val)\n",
    "    elif type(arg) == dict:\n",
    "        for key in arg.keys():\n",
    "            extend_lst(lst, key)\n",
    "        for value in arg.values():\n",
    "            extend_lst(lst, value)\n",
    "\n",
    "flat_lst = []\n",
    "extend_lst(flat_lst, list1)\n",
    "print(f\"Flat list  = {flat_lst}\")\n",
    "print(f\"The product of numeric values in list1 is {reduce(lambda x, y: x*y, flat_lst)}\")"
   ]
  },
  {
   "cell_type": "markdown",
   "metadata": {},
   "source": [
    "# Answer 2:"
   ]
  },
  {
   "cell_type": "code",
   "execution_count": 18,
   "metadata": {},
   "outputs": [
    {
     "name": "stdout",
     "output_type": "stream",
     "text": [
      "The encryption of I want to become a Data Scientist. is r$dzmg$gl$yvxlnv$z$wzgz$hxrvmgrhg.\n"
     ]
    }
   ],
   "source": [
    "input_msg = \"I want to become a Data Scientist.\"\n",
    "\n",
    "#Assuming no encryption for numeric characters, as their encrytpion rule is not mentioned.\n",
    "def encryption(msg):\n",
    "    to_be_encrypted = msg.lower()\n",
    "    encrypted_msg = \"\"\n",
    "    for char in to_be_encrypted:\n",
    "        if char.isalpha():\n",
    "            encrypted_msg += chr(219-ord(char))\n",
    "        elif char.isspace():\n",
    "            encrypted_msg += \"$\"\n",
    "        else:\n",
    "            encrypted_msg += char\n",
    "    return encrypted_msg\n",
    "\n",
    "print(f\"The encryption of {input_msg} is {encryption(input_msg)}\")\n",
    "            \n",
    "            "
   ]
  }
 ],
 "metadata": {
  "kernelspec": {
   "display_name": "Python 3",
   "language": "python",
   "name": "python3"
  },
  "language_info": {
   "codemirror_mode": {
    "name": "ipython",
    "version": 3
   },
   "file_extension": ".py",
   "mimetype": "text/x-python",
   "name": "python",
   "nbconvert_exporter": "python",
   "pygments_lexer": "ipython3",
   "version": "3.7.6"
  }
 },
 "nbformat": 4,
 "nbformat_minor": 4
}
