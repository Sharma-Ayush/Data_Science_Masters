{
 "cells": [
  {
   "cell_type": "markdown",
   "metadata": {},
   "source": [
    "# Answer 1:"
   ]
  },
  {
   "cell_type": "markdown",
   "metadata": {},
   "source": [
    "Classes are a representation of a category of similar real world entities. They act as blueprint for that category by describing the data(attributes) and behaviour(methods) of the real world entity.  \n",
    "Objects are instances of the class and these are the real world entities based on the classes blueprint.  \n",
    "\n",
    "For example:  "
   ]
  },
  {
   "cell_type": "code",
   "execution_count": 4,
   "metadata": {},
   "outputs": [],
   "source": [
    "class car:  \n",
    "    def __init__(self, engine, model, brand):  \n",
    "        self.engine = engine  \n",
    "        self.model = model  \n",
    "        self.brand = brand  \n",
    "    def display_model(self):  \n",
    "        print(f\"The model is {self.model}\")  \n",
    "    def display_engine(self):  \n",
    "        print(f\"The engine is {self.engine}\")  \n",
    "    def display_brand(self):  \n",
    "        print(f\"The brand is {self.brand}\")  \n",
    "AUDI_Q4 = car(\"V8\", \"Q4\", \"AUDI\")"
   ]
  },
  {
   "cell_type": "markdown",
   "metadata": {},
   "source": [
    "Here, car represents a blueprint of any car, containing a description or blueprint of the data and the beahviours of any object of this type will have. While AUDI_Q4 represents an object of type car, a real world entity."
   ]
  },
  {
   "cell_type": "markdown",
   "metadata": {},
   "source": [
    "# Answer 2:"
   ]
  },
  {
   "cell_type": "markdown",
   "metadata": {},
   "source": [
    "Four pillars of OOPS are:  \n",
    "1. Data Abstraction  \n",
    "2. Encapsulation  \n",
    "3. Polymorphism  \n",
    "4. Inheritance"
   ]
  },
  {
   "cell_type": "markdown",
   "metadata": {},
   "source": [
    "# Answer 3:"
   ]
  },
  {
   "cell_type": "markdown",
   "metadata": {},
   "source": [
    "\\_\\_init\\_\\_() is a constructor which gets automatically called whenever a new object is created or instantiated to assign initial values to the newly created object. So, it can be used to intialize data at the time of object creation.\n",
    "\n",
    "For example:"
   ]
  },
  {
   "cell_type": "code",
   "execution_count": 3,
   "metadata": {},
   "outputs": [
    {
     "name": "stdout",
     "output_type": "stream",
     "text": [
      "New object initialized.\n"
     ]
    }
   ],
   "source": [
    "class car:\n",
    "    def __init__(self, engine, model, brand):  \n",
    "        self.engine = engine  \n",
    "        self.model = model  \n",
    "        self.brand = brand  \n",
    "        print(\"New object initialized.\")\n",
    "AUDI_Q4 = car(\"V8\", \"Q4\", \"AUDI\")"
   ]
  },
  {
   "cell_type": "markdown",
   "metadata": {},
   "source": [
    "So, here when AUDI_Q4 object is created using the class name and arguments. Automatically, the \\_\\_init\\_\\_() function is called to intialize this newly created object with data or attributes as per given parameters."
   ]
  },
  {
   "cell_type": "markdown",
   "metadata": {},
   "source": [
    "# Answer 4:"
   ]
  },
  {
   "cell_type": "markdown",
   "metadata": {},
   "source": [
    "To access any attribute data of an object inside any instance method, we need a reference to the classes object. Python has made it mandatory that in such cases, the first argument will always be passed the class object's reference. Thus, by naming convention, that argument is usually named as self to highlight that meaning that it contains the calling objects own reference. It can be any other valid identifier name also if desired."
   ]
  },
  {
   "cell_type": "markdown",
   "metadata": {},
   "source": [
    "# Answer 5:"
   ]
  },
  {
   "cell_type": "markdown",
   "metadata": {},
   "source": [
    "Inheritance is a pillar of Object oriented programming. Inheritance allow us to do code reuasbility and also allow us to represent the relationship between classes by allowing us to inherit the data and methods from one class(parent class) to another class(child class).  "
   ]
  },
  {
   "cell_type": "markdown",
   "metadata": {},
   "source": [
    "There are 5 type of inheritance:"
   ]
  },
  {
   "cell_type": "markdown",
   "metadata": {},
   "source": [
    "### 1. Single level inheritance\n",
    "Where one class inherits from another class.  "
   ]
  },
  {
   "cell_type": "code",
   "execution_count": null,
   "metadata": {},
   "outputs": [],
   "source": [
    "class A:\n",
    "    def test(self):\n",
    "        print(\"Hi, how are you?\")\n",
    "        \n",
    "class B(A):\n",
    "    pass"
   ]
  },
  {
   "cell_type": "markdown",
   "metadata": {},
   "source": [
    "### 2. Multi level inheritance\n",
    "Where there is a chain of three or more than three classes in a single queue inheriting from different class each, except the topmost parent class."
   ]
  },
  {
   "cell_type": "code",
   "execution_count": null,
   "metadata": {},
   "outputs": [],
   "source": [
    "class A:\n",
    "    def test(self):\n",
    "        print(\"Hi, how are you?\")\n",
    "        \n",
    "class B(A):\n",
    "    def test1(self):\n",
    "        print(\"Hi, how are you?\")\n",
    "\n",
    "class C(B):\n",
    "    pass"
   ]
  },
  {
   "cell_type": "markdown",
   "metadata": {},
   "source": [
    "### 3. Hierarichal inheritance\n",
    "When a class is parent of many classes."
   ]
  },
  {
   "cell_type": "code",
   "execution_count": 1,
   "metadata": {},
   "outputs": [],
   "source": [
    "class A:\n",
    "    def test(self):\n",
    "        print(\"Hi, how are you?\")\n",
    "        \n",
    "class B(A):\n",
    "    pass\n",
    "\n",
    "class C(A):\n",
    "    pass"
   ]
  },
  {
   "cell_type": "markdown",
   "metadata": {},
   "source": [
    "### 4. Multiple inheritance\n",
    "When a class inherits from multiple classes at once."
   ]
  },
  {
   "cell_type": "code",
   "execution_count": 2,
   "metadata": {},
   "outputs": [],
   "source": [
    "class A:\n",
    "    def test(self):\n",
    "        print(\"Hi, how are you?\")\n",
    "        \n",
    "class B:\n",
    "    def test1(self):\n",
    "        print(\"Hi, how are you?\")\n",
    "\n",
    "class C(B, A):\n",
    "    pass"
   ]
  },
  {
   "cell_type": "markdown",
   "metadata": {},
   "source": [
    "### 5. Hybrid inheritance\n",
    "Some combination of the above 4 mentioned types of inhertiances."
   ]
  },
  {
   "cell_type": "code",
   "execution_count": null,
   "metadata": {},
   "outputs": [],
   "source": [
    "class A:\n",
    "    def test(self):\n",
    "        print(\"Hi, how are you?\")\n",
    "        \n",
    "class B(A):\n",
    "    def test1(self):\n",
    "        print(\"Hi, how are you?\")\n",
    "\n",
    "class C(B):\n",
    "    pass\n",
    "\n",
    "class D(B):\n",
    "    pass"
   ]
  }
 ],
 "metadata": {
  "kernelspec": {
   "display_name": "Python 3",
   "language": "python",
   "name": "python3"
  },
  "language_info": {
   "codemirror_mode": {
    "name": "ipython",
    "version": 3
   },
   "file_extension": ".py",
   "mimetype": "text/x-python",
   "name": "python",
   "nbconvert_exporter": "python",
   "pygments_lexer": "ipython3",
   "version": "3.7.6"
  }
 },
 "nbformat": 4,
 "nbformat_minor": 4
}
