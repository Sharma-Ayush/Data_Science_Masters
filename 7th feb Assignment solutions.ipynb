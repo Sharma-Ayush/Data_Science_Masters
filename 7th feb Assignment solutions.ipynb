{
 "cells": [
  {
   "cell_type": "markdown",
   "metadata": {},
   "source": [
    "# Answer 1:"
   ]
  },
  {
   "cell_type": "code",
   "execution_count": 1,
   "metadata": {},
   "outputs": [
    {
     "name": "stdout",
     "output_type": "stream",
     "text": [
      "Enter the password: ABcd1@#$we\n",
      "Valid Password\n"
     ]
    }
   ],
   "source": [
    "from string import punctuation\n",
    "\n",
    "password = input(\"Enter the password: \")\n",
    "\n",
    "def check_password(password):\n",
    "    \n",
    "    valid_password_checks = {\"uppercase\": 2, \"lowercase\": 2, \"number\": 1, \"special_char\": 3}\n",
    "    \n",
    "    checks_count = valid_password_checks.fromkeys(valid_password_checks.keys(), 0)\n",
    "    \n",
    "    if len(password) != 10:\n",
    "        return \"Invalid Password\"\n",
    "    \n",
    "    for char in password:\n",
    "        if char.isalpha(): \n",
    "            if char.isupper():\n",
    "                checks_count[\"uppercase\"] += 1 \n",
    "            else:\n",
    "                checks_count[\"lowercase\"] += 1\n",
    "        elif char.isnumeric():\n",
    "            checks_count[\"number\"] += 1\n",
    "        elif char in punctuation:\n",
    "            checks_count[\"special_char\"] += 1\n",
    "            \n",
    "    for key in valid_password_checks:\n",
    "        if valid_password_checks[key] > checks_count[key]:\n",
    "            return \"Invalid Password\"\n",
    "        \n",
    "    return \"Valid Password\"\n",
    "\n",
    "print(check_password(password))\n",
    "        \n",
    "            "
   ]
  },
  {
   "cell_type": "markdown",
   "metadata": {},
   "source": [
    "# Answer 2:"
   ]
  },
  {
   "cell_type": "markdown",
   "metadata": {},
   "source": [
    "### Problem statement - Check if the string starts with a particular letter."
   ]
  },
  {
   "cell_type": "code",
   "execution_count": 2,
   "metadata": {},
   "outputs": [
    {
     "name": "stdout",
     "output_type": "stream",
     "text": [
      "Enter the string to be checked: Ayush\n",
      "Enter the letter: A\n",
      "Yes, the string = Ayush starts with char = A\n"
     ]
    }
   ],
   "source": [
    "while True:\n",
    "    try:\n",
    "        string = input(\"Enter the string to be checked: \")\n",
    "        assert len(string) > 0, \"No characters were entered\"\n",
    "    except Exception as e:\n",
    "        print(f\"Error: {e}. Please enter string again.\")\n",
    "    except:\n",
    "        print(f\"Error: Something went wrong. Please enter string again.\")\n",
    "    else:\n",
    "        break\n",
    "        \n",
    "while True:\n",
    "    try:\n",
    "        char = input(\"Enter the letter: \")\n",
    "        assert len(char) == 1,\"Either zero or more than one characters entered\"\n",
    "        assert char.isalpha(), \"Something other than a letter was entered\"\n",
    "    except Exception as e:\n",
    "        print(f\"Error: {e}. Please enter character again.\")\n",
    "    except:\n",
    "        print(f\"Error: Something went wrong. Please enter character again.\")\n",
    "    else:\n",
    "        break\n",
    "\n",
    "if (lambda x, y: x[0] == y)(string, char): print(f\"Yes, the string = {string} starts with char = {char}\")\n",
    "else: print(f\"No, the string = {string} doesn't start with char = {char}\")"
   ]
  },
  {
   "cell_type": "markdown",
   "metadata": {},
   "source": [
    "### Problem statement - Check if the string is numeric."
   ]
  },
  {
   "cell_type": "code",
   "execution_count": 12,
   "metadata": {},
   "outputs": [
    {
     "name": "stdout",
     "output_type": "stream",
     "text": [
      "Enter the string to be checked: 123\n",
      "Yes, the string = 123 contain numerics.\n"
     ]
    }
   ],
   "source": [
    "while True:\n",
    "    try:\n",
    "        string = input(\"Enter the string to be checked: \")\n",
    "        assert len(string) > 0, \"No characters were entered\"\n",
    "    except Exception as e:\n",
    "        print(f\"Error: {e}. Please enter string again.\")\n",
    "    except:\n",
    "        print(f\"Error: Something went wrong. Please enter string again.\")\n",
    "    else:\n",
    "        break\n",
    "\n",
    "filtered_numerics = list(filter(lambda x: x.isnumeric(), string))\n",
    "\n",
    "if len(filtered_numerics) == len(string) : print(f\"Yes, the string = {string} contain numerics.\")\n",
    "else: print(f\"No, the string = {string} doesn't contain numerics.\")"
   ]
  },
  {
   "cell_type": "markdown",
   "metadata": {},
   "source": [
    "### Problem statement - Sort a list of tuples having fuit names and their quantity."
   ]
  },
  {
   "cell_type": "code",
   "execution_count": 3,
   "metadata": {},
   "outputs": [
    {
     "name": "stdout",
     "output_type": "stream",
     "text": [
      "[('orange', 80), ('mango', 99), ('grapes', 1000)]\n"
     ]
    }
   ],
   "source": [
    "t = [(\"mango\", 99), (\"orange\", 80), (\"grapes\", 1000)]\n",
    "sorted_t = sorted(t, key = lambda x: x[1])\n",
    "print(sorted_t)"
   ]
  },
  {
   "cell_type": "markdown",
   "metadata": {},
   "source": [
    "### Problem statement - Print the squares of numbers from 1 to 10."
   ]
  },
  {
   "cell_type": "code",
   "execution_count": 4,
   "metadata": {},
   "outputs": [
    {
     "name": "stdout",
     "output_type": "stream",
     "text": [
      "The square of number 1 is 1\n",
      "The square of number 2 is 4\n",
      "The square of number 3 is 9\n",
      "The square of number 4 is 16\n",
      "The square of number 5 is 25\n",
      "The square of number 6 is 36\n",
      "The square of number 7 is 49\n",
      "The square of number 8 is 64\n",
      "The square of number 9 is 81\n",
      "The square of number 10 is 100\n"
     ]
    }
   ],
   "source": [
    "for num, square in zip(range(1,11), map(lambda x: x**2, range(1,11))):\n",
    "    print(f\"The square of number {num} is {square}\")"
   ]
  },
  {
   "cell_type": "markdown",
   "metadata": {},
   "source": [
    "### Problem statement - Print the cube root of numbers from 1 to 10."
   ]
  },
  {
   "cell_type": "code",
   "execution_count": 5,
   "metadata": {},
   "outputs": [
    {
     "name": "stdout",
     "output_type": "stream",
     "text": [
      "The cube root of number 1 is 1.0\n",
      "The cube root of number 2 is 1.2599210498948732\n",
      "The cube root of number 3 is 1.4422495703074083\n",
      "The cube root of number 4 is 1.5874010519681994\n",
      "The cube root of number 5 is 1.7099759466766968\n",
      "The cube root of number 6 is 1.8171205928321397\n",
      "The cube root of number 7 is 1.912931182772389\n",
      "The cube root of number 8 is 2.0\n",
      "The cube root of number 9 is 2.080083823051904\n",
      "The cube root of number 10 is 2.154434690031884\n"
     ]
    }
   ],
   "source": [
    "for num, cube_root in zip(range(1,11), map(lambda x: x**(1/3), range(1,11))):\n",
    "    print(f\"The cube root of number {num} is {cube_root}\")"
   ]
  },
  {
   "cell_type": "markdown",
   "metadata": {},
   "source": [
    "### Problem statement - Check if a given number is even."
   ]
  },
  {
   "cell_type": "code",
   "execution_count": 6,
   "metadata": {},
   "outputs": [
    {
     "name": "stdout",
     "output_type": "stream",
     "text": [
      "Enter a number: 10\n",
      "Yes, the given number = 10 is even.\n"
     ]
    }
   ],
   "source": [
    "while True:\n",
    "    try:\n",
    "        num = float(input(\"Enter a number: \"))\n",
    "        if int(num) == num: num = int(num)\n",
    "    except Exception:\n",
    "        print(\"Error: Invalid input. Please enter again.\")\n",
    "    except:\n",
    "        print(\"Error: Something went wrong.\")\n",
    "    else:\n",
    "        break\n",
    "if (lambda x: x % 2 == 0)(num):print(f\"Yes, the given number = {num} is even.\")\n",
    "else:print(f\"Yes, the given number = {num} is not even.\")\n"
   ]
  },
  {
   "cell_type": "markdown",
   "metadata": {},
   "source": [
    "### Problem statement - Filter odd numbers from the given list."
   ]
  },
  {
   "cell_type": "code",
   "execution_count": 7,
   "metadata": {},
   "outputs": [
    {
     "name": "stdout",
     "output_type": "stream",
     "text": [
      "[1, 3, 5, 7, 9]\n"
     ]
    }
   ],
   "source": [
    "lst = [1, 2, 3, 4, 5, 6, 7, 8, 9, 10]\n",
    "filtered_list = list(filter(lambda x: x % 2 != 0, lst))\n",
    "print(filtered_list)"
   ]
  },
  {
   "cell_type": "markdown",
   "metadata": {},
   "source": [
    "### Problem statement - Sort a list of integers into positive and negative integers lists."
   ]
  },
  {
   "cell_type": "code",
   "execution_count": 8,
   "metadata": {},
   "outputs": [
    {
     "name": "stdout",
     "output_type": "stream",
     "text": [
      "The list of positive integers is: [1, 2, 3, 4, 5, 6]\n",
      "The list of negative integers is: [-1, -2, -3, -4, -5]\n"
     ]
    }
   ],
   "source": [
    "lst = [1, 2, 3, 4, 5, 6, -1, -2, -3, -4, -5, 0]\n",
    "positive_list = [i for i in lst if i > 0]\n",
    "negative_list = [i for i in lst if i < 0]\n",
    "print(f\"The list of positive integers is: {positive_list}\")\n",
    "print(f\"The list of negative integers is: {negative_list}\")"
   ]
  }
 ],
 "metadata": {
  "kernelspec": {
   "display_name": "Python 3",
   "language": "python",
   "name": "python3"
  },
  "language_info": {
   "codemirror_mode": {
    "name": "ipython",
    "version": 3
   },
   "file_extension": ".py",
   "mimetype": "text/x-python",
   "name": "python",
   "nbconvert_exporter": "python",
   "pygments_lexer": "ipython3",
   "version": "3.7.6"
  }
 },
 "nbformat": 4,
 "nbformat_minor": 4
}
