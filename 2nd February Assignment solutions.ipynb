{
 "cells": [
  {
   "cell_type": "markdown",
   "metadata": {},
   "source": [
    "# Answer 1:"
   ]
  },
  {
   "cell_type": "markdown",
   "metadata": {},
   "source": [
    "Tuples are a type fo data structure in python which have the following characteristics:\n",
    "1. Can hold heterogenous type elements.  \n",
    "2. It's an ordered collection with indexing available.  \n",
    "3. Its an immutable type of data structure.  \n",
    "4. Normal paranthesis - () are used to create tuples.  \n",
    "5. They allow duplicates in between elements.  \n",
    "\n",
    "Yes, tuples are immutable in nature."
   ]
  },
  {
   "cell_type": "markdown",
   "metadata": {},
   "source": [
    "# Answer 2:"
   ]
  },
  {
   "cell_type": "markdown",
   "metadata": {},
   "source": [
    "Tuples have following two methods available in python:\n",
    "1. **count()** : counts the occurence of an element in the given tuple. For example, if t=(1,2,2,3,3) then t.count(0) will return 0 and t.count(3) will return 2.  \n",
    "2. **index()** : gives the index of the first occurence of given element in given slicing range if needed, otherwise on whole tuple. Raises ValueError if value not find in tuple. For example, if t=(1,2,2,3,3) then t.index(0) will raise ValueError, t.index(2) will return 1 and t.index(2,2,4) returns 2 corresponding to slicing of t[2:4].  \n",
    "  \n",
    "Since tuples are immutable in nature they can't have as many functions as list, as most of the list functions edit the list in some manner which is not possible for an immutable data type."
   ]
  },
  {
   "cell_type": "markdown",
   "metadata": {},
   "source": [
    "# Answer 3:"
   ]
  },
  {
   "cell_type": "markdown",
   "metadata": {},
   "source": [
    "Sets in python don't allow duplicates."
   ]
  },
  {
   "cell_type": "code",
   "execution_count": 2,
   "metadata": {},
   "outputs": [
    {
     "name": "stdout",
     "output_type": "stream",
     "text": [
      "[1, 2, 3, 4]\n"
     ]
    }
   ],
   "source": [
    "#Assuming the order doesn't need to be maintained\n",
    "Lst = [1, 1, 1, 2, 1, 3, 1, 4, 2, 1, 2, 2, 2, 3, 2, 4, 3, 1, 3, 2, 3, 3, 3, 4, 4, 1, 4, 2, 4, 3, 4, 4]\n",
    "new_Lst = list(set(Lst))\n",
    "print(new_Lst)"
   ]
  },
  {
   "cell_type": "markdown",
   "metadata": {},
   "source": [
    "# Answer 4:"
   ]
  },
  {
   "cell_type": "markdown",
   "metadata": {},
   "source": [
    "Union method has the following syntax:  \n",
    "s1.union(s2,s3,....) which returns set union of all the sets i.e. the one calling the method and also it's arguments. But it doesn't update s1 in any way. For example, if s1 = {1,2,3} and s2 = {3,4,5} then s3 = s1.union(s2) doesn't change s1 and s2 in any way but attaches a reference of s3 to the set union {1,2,3,4,5}.  \n",
    "\n",
    "Update method has the following syntax:  \n",
    "s1.update(s2,s3,....) updates s1 with the set union of all the set. For example, if s1 = {1,2,3} and s2 = {3,4,5} then s1.union(s2) changes s1 to the set union {1,2,3,4,5}.  \n"
   ]
  },
  {
   "cell_type": "markdown",
   "metadata": {},
   "source": [
    "# Answer 5:"
   ]
  },
  {
   "cell_type": "markdown",
   "metadata": {},
   "source": [
    "Dictionary is a type of data structure in python in which data is stored in the form of key:value pairs and the keys similar to indices in list can be used to access the corresponding values. The keys can be any immutable type data while values can be anything either mutable or immutable. For example, a student record can be saved something like this in dictionary form: student = {\"name\":\"Ayush Sharma\", \"age\":25}.  \n",
    "Dictionaries are ordered in nature as the order of key-value pair insertion is remembered and is reflected when printing the dictionary or doing some iteration on the dictionary."
   ]
  },
  {
   "cell_type": "markdown",
   "metadata": {},
   "source": [
    "# Answer 6:"
   ]
  },
  {
   "cell_type": "markdown",
   "metadata": {},
   "source": [
    "Yes, nested dictionaries are possible.  \n",
    "For example:  "
   ]
  },
  {
   "cell_type": "code",
   "execution_count": 7,
   "metadata": {},
   "outputs": [
    {
     "name": "stdout",
     "output_type": "stream",
     "text": [
      "value and type of d are {6: 7, 8: 9} and <class 'dict'>\n",
      "the nested dictionary created using d = {1: 2, 3: 4, 5: {6: 7, 8: 9}}\n"
     ]
    }
   ],
   "source": [
    "d = {6:7, 8:9}\n",
    "print(f\"value and type of d are {d} and {type(d)}\")\n",
    "nested_dict = {1:2, 3:4, 5:d}\n",
    "print(f\"the nested dictionary created using d = {nested_dict}\")"
   ]
  },
  {
   "cell_type": "markdown",
   "metadata": {},
   "source": [
    "# Answer 7:"
   ]
  },
  {
   "cell_type": "code",
   "execution_count": 12,
   "metadata": {},
   "outputs": [
    {
     "name": "stdout",
     "output_type": "stream",
     "text": [
      "{'language': 'Python', 'course': 'Data Science Masters', 'topics': ['Python', 'Machine Learning', 'Deep Learning']}\n"
     ]
    }
   ],
   "source": [
    "dict1 = {'language' : 'Python', 'course': 'Data Science Masters'}\n",
    "lst = ['Python', 'Machine Learning', 'Deep Learning']\n",
    "dict1.setdefault(\"topics\", lst)\n",
    "print(dict1)"
   ]
  },
  {
   "cell_type": "markdown",
   "metadata": {},
   "source": [
    "# Answer 8:"
   ]
  },
  {
   "cell_type": "markdown",
   "metadata": {},
   "source": [
    "The three view objects in python dictionaries are:  \n",
    "1. items\n",
    "2. keys  \n",
    "3. values"
   ]
  },
  {
   "cell_type": "code",
   "execution_count": 16,
   "metadata": {},
   "outputs": [
    {
     "name": "stdout",
     "output_type": "stream",
     "text": [
      "ITEMS:\n",
      "('Sport', 'Cricket')\n",
      "('Teams', ['India', 'Australia', 'England', 'South Africa', 'Sri Lanka', 'New Zealand'])\n",
      "\r\n",
      "KEYS:\n",
      "Sport\n",
      "Teams\n",
      "\r\n",
      "VALUES:\n",
      "Cricket\n",
      "['India', 'Australia', 'England', 'South Africa', 'Sri Lanka', 'New Zealand']\n"
     ]
    }
   ],
   "source": [
    "dict1 = {'Sport': 'Cricket' , 'Teams': ['India', 'Australia', 'England', 'South Africa', 'Sri Lanka', 'New Zealand']}\n",
    "\n",
    "# using items\n",
    "print(\"ITEMS:\")\n",
    "for i in dict1.items():\n",
    "    print(i)\n",
    "    \n",
    "print(\"\\r\")\n",
    "\n",
    "# using keys\n",
    "print(\"KEYS:\")   \n",
    "for i in dict1.keys():\n",
    "    print(i)\n",
    "    \n",
    "print(\"\\r\")\n",
    "    \n",
    "# using values\n",
    "print(\"VALUES:\")\n",
    "for i in dict1.values():\n",
    "    print(i)"
   ]
  }
 ],
 "metadata": {
  "kernelspec": {
   "display_name": "Python 3",
   "language": "python",
   "name": "python3"
  },
  "language_info": {
   "codemirror_mode": {
    "name": "ipython",
    "version": 3
   },
   "file_extension": ".py",
   "mimetype": "text/x-python",
   "name": "python",
   "nbconvert_exporter": "python",
   "pygments_lexer": "ipython3",
   "version": "3.7.6"
  }
 },
 "nbformat": 4,
 "nbformat_minor": 4
}
