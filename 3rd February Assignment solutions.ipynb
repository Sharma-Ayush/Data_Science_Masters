{
 "cells": [
  {
   "cell_type": "markdown",
   "metadata": {},
   "source": [
    "# Answer 1:"
   ]
  },
  {
   "cell_type": "markdown",
   "metadata": {},
   "source": [
    "def keyword is used to create a function."
   ]
  },
  {
   "cell_type": "code",
   "execution_count": 1,
   "metadata": {},
   "outputs": [
    {
     "data": {
      "text/plain": [
       "[1, 3, 5, 7, 9, 11, 13, 15, 17, 19, 21, 23, 25]"
      ]
     },
     "execution_count": 1,
     "metadata": {},
     "output_type": "execute_result"
    }
   ],
   "source": [
    "def odd_numbers():\n",
    "    lst = []\n",
    "    for num in range(1,26):\n",
    "        if num % 2 != 0:\n",
    "            lst.append(num)\n",
    "    return lst\n",
    "\n",
    "odd_numbers()"
   ]
  },
  {
   "cell_type": "markdown",
   "metadata": {},
   "source": [
    "# Answer 2:"
   ]
  },
  {
   "cell_type": "markdown",
   "metadata": {},
   "source": [
    "When we are not sure about the number of parameters that will be passed in a function call we try to accumulate those parameters in one collection data structure using \\*args or \\*\\*kwargs. \\*args is used to collect multiple numbers of positional arguments into one tuple while \\*\\*kwargs is used to collect multiple number of keyword arguments into one dictionary.  "
   ]
  },
  {
   "cell_type": "code",
   "execution_count": 2,
   "metadata": {},
   "outputs": [
    {
     "name": "stdout",
     "output_type": "stream",
     "text": [
      "args hold the following tuple = (1, 2, 3, 4, 5)\n",
      "args hold the following tuple = (1, 2, 3)\n",
      "args hold the following tuple = ()\n"
     ]
    }
   ],
   "source": [
    "# *args example\n",
    "def test1(*args):\n",
    "    print(f\"args hold the following tuple = {args}\")\n",
    "    \n",
    "test1(1,2,3,4,5)\n",
    "test1(1,2,3)\n",
    "test1()"
   ]
  },
  {
   "cell_type": "code",
   "execution_count": 3,
   "metadata": {},
   "outputs": [
    {
     "name": "stdout",
     "output_type": "stream",
     "text": [
      "kwargs hold the following dictionary = {'a': 1, 'b': 2, 'c': 3, 'd': 4, 'e': 5}\n",
      "kwargs hold the following dictionary = {'a': 1, 'b': 2, 'c': 3}\n",
      "kwargs hold the following dictionary = {}\n"
     ]
    }
   ],
   "source": [
    "# **kwargs example\n",
    "def test2(**kwargs):\n",
    "    print(f\"kwargs hold the following dictionary = {kwargs}\")\n",
    "    \n",
    "test2(a = 1, b = 2, c = 3, d = 4, e = 5)\n",
    "test2(a = 1, b = 2, c = 3)\n",
    "test2()"
   ]
  },
  {
   "cell_type": "markdown",
   "metadata": {},
   "source": [
    "# Answer 3:"
   ]
  },
  {
   "cell_type": "markdown",
   "metadata": {},
   "source": [
    "Any type of object which has next() and iter() methods available is an iterator type object. Iterator objects have the power to return sequence of elements one by one rather than sending all in one go which can occupy a lot of space. While iterating over an iterator, the iterator is able to remember the current state of iteration i.e. what was sent and what is the current value of any local variables inside it and based on this current state it is able to proceed to next sequence value and not remember the while sequence.  \n",
    "iter() method is used to initialize the iterator object.  \n",
    "next() method is used for iteration of an iterator object.  "
   ]
  },
  {
   "cell_type": "code",
   "execution_count": 4,
   "metadata": {},
   "outputs": [
    {
     "name": "stdout",
     "output_type": "stream",
     "text": [
      "2\n",
      "4\n",
      "6\n",
      "8\n",
      "10\n"
     ]
    }
   ],
   "source": [
    "lst = [2, 4, 6, 8, 10, 12, 14, 16, 18, 20]\n",
    "# list has iter() method which will convert it into a iterator list\n",
    "iter_lst = iter(lst)\n",
    "count = 1\n",
    "while count<=5:\n",
    "    print(next(iter_lst))\n",
    "    count+=1"
   ]
  },
  {
   "cell_type": "markdown",
   "metadata": {},
   "source": [
    "# Answer 4:"
   ]
  },
  {
   "cell_type": "markdown",
   "metadata": {},
   "source": [
    "A generator function is a function that contains yield keyword inside its defintion. It returns a generator object which is iterator in nature and can be used to extract sequence of data one by one.  \n",
    "Yield keyword inside a function definition is used to say that this function is a generator function."
   ]
  },
  {
   "cell_type": "code",
   "execution_count": 31,
   "metadata": {},
   "outputs": [
    {
     "name": "stdout",
     "output_type": "stream",
     "text": [
      "0\n",
      "1\n",
      "1\n",
      "2\n",
      "3\n",
      "5\n",
      "8\n",
      "13\n",
      "21\n",
      "34\n"
     ]
    }
   ],
   "source": [
    "def gen_fib(num):\n",
    "    a,b = 0,1\n",
    "    for i in range(num):\n",
    "        yield a\n",
    "        a,b = b,a+b\n",
    "        \n",
    "fib10 = gen_fib(10) # return generator function with parameter 10\n",
    "for i in fib10:\n",
    "    print(i)"
   ]
  },
  {
   "cell_type": "markdown",
   "metadata": {},
   "source": [
    "# Answer 5:"
   ]
  },
  {
   "cell_type": "code",
   "execution_count": 32,
   "metadata": {},
   "outputs": [
    {
     "name": "stdout",
     "output_type": "stream",
     "text": [
      "2\n",
      "3\n",
      "5\n",
      "7\n",
      "11\n",
      "13\n",
      "17\n",
      "19\n",
      "23\n",
      "29\n",
      "31\n",
      "37\n",
      "41\n",
      "43\n",
      "47\n",
      "53\n",
      "59\n",
      "61\n",
      "67\n",
      "71\n",
      "The time taken for execution is = 0.0029981136322021484 secs\n"
     ]
    }
   ],
   "source": [
    "# Solution - 1\n",
    "import time\n",
    "start = time.time()\n",
    "\n",
    "from math import sqrt\n",
    "def check_prime(num):\n",
    "    if num == 2:\n",
    "        return True\n",
    "    elif num % 2 == 0 or num == 1:\n",
    "        return False\n",
    "    else:\n",
    "        for i in range(3, int(sqrt(num)) + 1, 2):\n",
    "            if num % i == 0:\n",
    "                return False\n",
    "    return True\n",
    "\n",
    "def gen_prime(num):\n",
    "    for i in range(num):\n",
    "        if check_prime(i) == True:\n",
    "            yield i\n",
    "\n",
    "prime_less_than_1000 = gen_prime(1000) #generator object for prime numbers less than 1000\n",
    "count = 1\n",
    "while count <= 20:\n",
    "    print(next(prime_less_than_1000))\n",
    "    count += 1\n",
    "    \n",
    "end = time.time()\n",
    "print(f\"The time taken for execution is = {end - start} secs\")"
   ]
  },
  {
   "cell_type": "markdown",
   "metadata": {},
   "source": [
    "or"
   ]
  },
  {
   "cell_type": "code",
   "execution_count": 34,
   "metadata": {},
   "outputs": [
    {
     "name": "stdout",
     "output_type": "stream",
     "text": [
      "2\n",
      "3\n",
      "5\n",
      "7\n",
      "11\n",
      "13\n",
      "17\n",
      "19\n",
      "23\n",
      "29\n",
      "31\n",
      "37\n",
      "41\n",
      "43\n",
      "47\n",
      "53\n",
      "59\n",
      "61\n",
      "67\n",
      "71\n",
      "The time taken for execution is = 0.0019981861114501953 secs\n"
     ]
    }
   ],
   "source": [
    "# Solution - 2\n",
    "import time\n",
    "start = time.time()\n",
    "\n",
    "def gen_prime(num):\n",
    "    if num in (0, 1, 2):\n",
    "        return f\"No prime numbers found below {num}.\"\n",
    "    prime_lst = []\n",
    "    for i in range(2, num):\n",
    "        for prime in prime_lst:\n",
    "            if i % prime == 0:\n",
    "                break\n",
    "        else:\n",
    "            prime_lst.append(i)\n",
    "            yield i\n",
    "\n",
    "prime_less_than_1000 = gen_prime(1000) #generator object for prime numbers less than 1000\n",
    "count = 1\n",
    "while count <= 20:\n",
    "    try:\n",
    "        print(next(prime_less_than_1000))\n",
    "    except StopIteration:\n",
    "        print(\"End of the line for you. Sorry...\")\n",
    "        break\n",
    "    else:\n",
    "        count += 1\n",
    "    \n",
    "end = time.time()\n",
    "print(f\"The time taken for execution is = {end - start} secs\")"
   ]
  }
 ],
 "metadata": {
  "kernelspec": {
   "display_name": "Python 3",
   "language": "python",
   "name": "python3"
  },
  "language_info": {
   "codemirror_mode": {
    "name": "ipython",
    "version": 3
   },
   "file_extension": ".py",
   "mimetype": "text/x-python",
   "name": "python",
   "nbconvert_exporter": "python",
   "pygments_lexer": "ipython3",
   "version": "3.7.6"
  }
 },
 "nbformat": 4,
 "nbformat_minor": 4
}
